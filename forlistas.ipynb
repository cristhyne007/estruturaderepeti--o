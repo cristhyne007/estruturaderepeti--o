{
  "nbformat": 4,
  "nbformat_minor": 0,
  "metadata": {
    "colab": {
      "provenance": [],
      "authorship_tag": "ABX9TyNgbcdsGNPbT0aCXaxh9lN5",
      "include_colab_link": true
    },
    "kernelspec": {
      "name": "python3",
      "display_name": "Python 3"
    },
    "language_info": {
      "name": "python"
    }
  },
  "cells": [
    {
      "cell_type": "markdown",
      "metadata": {
        "id": "view-in-github",
        "colab_type": "text"
      },
      "source": [
        "<a href=\"https://colab.research.google.com/github/cristhyne007/estruturaderepeti--o/blob/main/forlistas.ipynb\" target=\"_parent\"><img src=\"https://colab.research.google.com/assets/colab-badge.svg\" alt=\"Open In Colab\"/></a>"
      ]
    },
    {
      "cell_type": "code",
      "source": [
        "frutas=['Abacaxi','Morango','Uva','Banana']\n",
        "for fruta in frutas:\n",
        "    print(fruta)"
      ],
      "metadata": {
        "colab": {
          "base_uri": "https://localhost:8080/"
        },
        "id": "qy9OJRzMt1m2",
        "outputId": "d57346a9-fd44-4b34-f22b-e8964178fa52"
      },
      "execution_count": 2,
      "outputs": [
        {
          "output_type": "stream",
          "name": "stdout",
          "text": [
            "Abacaxi\n",
            "Morango\n",
            "Uva\n",
            "Banana\n"
          ]
        }
      ]
    },
    {
      "cell_type": "code",
      "source": [
        "frase=\"vamos se sumir\"\n",
        "for letra in frase:\n",
        "  print(letra)"
      ],
      "metadata": {
        "colab": {
          "base_uri": "https://localhost:8080/"
        },
        "id": "StL67PJ-t_39",
        "outputId": "af755f1b-6317-4626-c896-7177c6382b3b"
      },
      "execution_count": 6,
      "outputs": [
        {
          "output_type": "stream",
          "name": "stdout",
          "text": [
            "v\n",
            "a\n",
            "m\n",
            "o\n",
            "s\n",
            " \n",
            "s\n",
            "e\n",
            " \n",
            "s\n",
            "u\n",
            "m\n",
            "i\n",
            "r\n"
          ]
        }
      ]
    },
    {
      "cell_type": "code",
      "source": [
        "cores=['Vermelho','Verde','Azul','Amarelo']\n",
        "for cor in cores:\n",
        "  print(cor)\n",
        "else:\n",
        "  print(\"iteração concluída\")"
      ],
      "metadata": {
        "colab": {
          "base_uri": "https://localhost:8080/"
        },
        "id": "b4U7gvnBvDNw",
        "outputId": "fc1c747c-b442-499f-e34c-82e85c727ff7"
      },
      "execution_count": 7,
      "outputs": [
        {
          "output_type": "stream",
          "name": "stdout",
          "text": [
            "Vermelho\n",
            "Verde\n",
            "Azul\n",
            "Amarelo\n",
            "iteração concluída\n"
          ]
        }
      ]
    }
  ]
}